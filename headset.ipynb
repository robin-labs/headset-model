{
 "cells": [
  {
   "cell_type": "code",
   "execution_count": 1,
   "metadata": {},
   "outputs": [],
   "source": [
    "%load_ext autoreload\n",
    "%autoreload 2"
   ]
  },
  {
   "cell_type": "code",
   "execution_count": 2,
   "metadata": {},
   "outputs": [
    {
     "name": "stdout",
     "output_type": "stream",
     "text": [
      "Overwriting auto display for cadquery Workplane and Shape\n"
     ]
    }
   ],
   "source": [
    "import cadquery as cq\n",
    "import jupyter_cadquery\n",
    "\n",
    "jupyter_cadquery.set_defaults(ortho=False)\n",
    "\n",
    "from headset.params import (\n",
    "    HeadParams,\n",
    "    HeadbandParams,\n",
    "    HeadboxParams,\n",
    "    BatteryParams,\n",
    "    ControlBoardParams,\n",
    "    HeadsetParams,\n",
    ")\n",
    "\n",
    "front_head = HeadParams(circumference=470)\n",
    "back_head = HeadParams(circumference=560)\n",
    "\n",
    "headband = HeadbandParams(\n",
    "    thickness=6,\n",
    "    height=45,\n",
    "    extension_length=20,\n",
    "    attachment_radius=10,\n",
    "    attachment_thickness=3,\n",
    "    tweeter_positions=[-60, 0, 60],\n",
    "    tweeter_indent=1,\n",
    "    mic_clip_height=6,\n",
    "    mic_clip_protrusion=10,\n",
    "    mic_clip_clearance=2.75,\n",
    "    mic_clip_thickness=2,\n",
    ")\n",
    "\n",
    "headbox = HeadboxParams(\n",
    "    depth=8,\n",
    "    wall_thickness=2,\n",
    "    head_penetration=20,\n",
    "    deep_cutout_penetration=7,\n",
    "    deep_cutout_radius=7,\n",
    "    strap_cutout_depth=7,\n",
    "    strap_cutout_height=15,\n",
    "    strap_cutout_width=5,\n",
    ")\n",
    "\n",
    "battery = BatteryParams(\n",
    "    width=62,\n",
    "    height=39,\n",
    "    depth=9,\n",
    ")\n",
    "\n",
    "control_board = ControlBoardParams(\n",
    "    width=90,\n",
    "    height=64,\n",
    "    depth=20,\n",
    ")\n",
    "\n",
    "headset = HeadsetParams(\n",
    "    front_head=front_head,\n",
    "    back_head=back_head,\n",
    "    headband=headband,\n",
    "    headbox=headbox,\n",
    "    battery=battery,\n",
    "    control_board=control_board,\n",
    ")"
   ]
  },
  {
   "cell_type": "code",
   "execution_count": 3,
   "metadata": {},
   "outputs": [
    {
     "data": {
      "application/vnd.jupyter.widget-view+json": {
       "model_id": "df2f325f017c409583354ddf0fe520fc",
       "version_major": 2,
       "version_minor": 0
      },
      "text/plain": [
       "CadViewerWidget(anchor=None, cad_width=800, glass=False, height=600, pinning=False, theme='light', title=None,…"
      ]
     },
     "metadata": {},
     "output_type": "display_data"
    },
    {
     "data": {
      "text/html": [
       "<div></div>"
      ],
      "text/plain": [
       "<IPython.core.display.HTML object>"
      ]
     },
     "metadata": {},
     "output_type": "display_data"
    }
   ],
   "source": [
    "from headset.headband import create_headband\n",
    "\n",
    "headband_model = create_headband(headset)\n",
    "headband_model"
   ]
  },
  {
   "cell_type": "code",
   "execution_count": 4,
   "metadata": {},
   "outputs": [
    {
     "data": {
      "application/vnd.jupyter.widget-view+json": {
       "model_id": "71b658d2abd64d019ec8685c188b71ae",
       "version_major": 2,
       "version_minor": 0
      },
      "text/plain": [
       "CadViewerWidget(anchor=None, cad_width=800, glass=False, height=600, pinning=False, theme='light', title=None,…"
      ]
     },
     "metadata": {},
     "output_type": "display_data"
    },
    {
     "data": {
      "text/html": [
       "<div></div>"
      ],
      "text/plain": [
       "<IPython.core.display.HTML object>"
      ]
     },
     "metadata": {},
     "output_type": "display_data"
    }
   ],
   "source": [
    "from headset.headbox import create_headbox\n",
    "\n",
    "headbox_model = create_headbox(headset)\n",
    "headbox_model"
   ]
  },
  {
   "cell_type": "code",
   "execution_count": 5,
   "metadata": {},
   "outputs": [
    {
     "data": {
      "text/plain": [
       "True"
      ]
     },
     "execution_count": 5,
     "metadata": {},
     "output_type": "execute_result"
    }
   ],
   "source": [
    "headband_model.val().exportStl(\"./exports/headband.stl\")\n",
    "headbox_model.val().exportStl(\"./exports/headbox.stl\")\n"
   ]
  },
  {
   "cell_type": "code",
   "execution_count": null,
   "metadata": {},
   "outputs": [],
   "source": []
  }
 ],
 "metadata": {
  "kernelspec": {
   "display_name": "robin-headset-pueixTSH-py3.11",
   "language": "python",
   "name": "python3"
  },
  "language_info": {
   "codemirror_mode": {
    "name": "ipython",
    "version": 3
   },
   "file_extension": ".py",
   "mimetype": "text/x-python",
   "name": "python",
   "nbconvert_exporter": "python",
   "pygments_lexer": "ipython3",
   "version": "3.11.5"
  }
 },
 "nbformat": 4,
 "nbformat_minor": 2
}
